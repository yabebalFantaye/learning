{
 "metadata": {
  "name": "",
  "signature": "sha256:ab01572f3398c09ce639999792a5327794a1d4b48991b38dc45f46c6d710151c"
 },
 "nbformat": 3,
 "nbformat_minor": 0,
 "worksheets": [
  {
   "cells": [
    {
     "cell_type": "heading",
     "level": 1,
     "metadata": {},
     "source": [
      "Generate HTML reports with D3 graphs using Python, Plotly, and Pandas"
     ]
    },
    {
     "cell_type": "markdown",
     "metadata": {},
     "source": [
      "You can download the example report that this script generate from this link."
     ]
    },
    {
     "cell_type": "markdown",
     "metadata": {},
     "source": [
      "<a href=\"d3.js\">d3.js</a> is an amazing JavaScript library for creating interactive, online graphics and charts. Plotly lets you create d3.js charts using Python, R, or MATLAB. This IPython notebook shows you how to embed these charts in an HTML report that you can then share by email or <a href=\"\">host on a website</a>."
     ]
    },
    {
     "cell_type": "markdown",
     "metadata": {},
     "source": [
      "Once you've created your report generation script, you can automate it with a task scheduler like <a href=\"http://moderndata.plot.ly/update-plotly-charts-with-cron-jobs-and-python/\">cron</a> on a Ubuntu server, and even email it email it to yourself or your team with the Python <a href=\"https://docs.python.org/2/library/smtplib.html\">smtplib</a> library."
     ]
    },
    {
     "cell_type": "code",
     "collapsed": false,
     "input": [
      "import plotly as py\n",
      "import pandas as pd\n",
      "import numpy as np\n",
      "\n",
      "from datetime import datetime\n",
      "from datetime import time as dt_tm\n",
      "from datetime import date as dt_date\n",
      "\n",
      "import plotly.plotly as py\n",
      "import plotly.tools as plotly_tools\n",
      "from plotly.graph_objs import *\n",
      "\n",
      "import os\n",
      "import tempfile\n",
      "os.environ['MPLCONFIGDIR'] = tempfile.mkdtemp()\n",
      "from matplotlib.finance import quotes_historical_yahoo\n",
      "import matplotlib.pyplot as plt\n",
      "\n",
      "from scipy.stats import gaussian_kde\n",
      "\n",
      "from IPython.display import HTML\n",
      "\n",
      "py.sign_in(\"yabebal\", \"glpjcjvoh0\")"
     ],
     "language": "python",
     "metadata": {},
     "outputs": [],
     "prompt_number": 13
    },
    {
     "cell_type": "heading",
     "level": 2,
     "metadata": {},
     "source": [
      "Step 1: Generate 2 graphs and 2 tables for report with Plotly Python client"
     ]
    },
    {
     "cell_type": "heading",
     "level": 3,
     "metadata": {},
     "source": [
      "First graph: 2014 Apple stock data with moving average"
     ]
    },
    {
     "cell_type": "markdown",
     "metadata": {},
     "source": [
      "Let's grab Apple stock data using the <a href=\"http://matplotlib.org/api/finance_api.html\">matplotlib finance</a> model from 2014, then take a moving average with a <a href=\"http://docs.scipy.org/doc/numpy/reference/generated/numpy.convolve.html\">numpy convolution</a>."
     ]
    },
    {
     "cell_type": "code",
     "collapsed": false,
     "input": [
      "x = []\n",
      "y = []\n",
      "ma = []\n",
      "\n",
      "def moving_average(interval, window_size):\n",
      "    window = np.ones(int(window_size))/float(window_size)\n",
      "    return np.convolve(interval, window, 'same')\n",
      "\n",
      "date1 = dt_date( 2014, 1, 1 )\n",
      "date2 = dt_date( 2014, 12, 12 )\n",
      "quotes = quotes_historical_yahoo('AAPL', date1, date2)\n",
      "if len(quotes) == 0:\n",
      "    print \"Couldn't connect to yahoo trading database\"\n",
      "else:\n",
      "    dates = [q[0] for q in quotes]\n",
      "    y = [q[1] for q in quotes]\n",
      "    for date in dates:\n",
      "        x.append(datetime.fromordinal(int(date))\\\n",
      "                .strftime('%Y-%m-%d')) # Plotly timestamp format\n",
      "    ma = moving_average(y, 10)"
     ],
     "language": "python",
     "metadata": {},
     "outputs": [],
     "prompt_number": 3
    },
    {
     "cell_type": "markdown",
     "metadata": {},
     "source": [
      "Now graph the data with Plotly. See here for Plotly's <a href=\"https://plot.ly/python/line-and-scatter/\">line plot syntax</a> and here for <a href=\"https://plot.ly/python/getting-started/\">getting started</a> with the Plotly Python client."
     ]
    },
    {
     "cell_type": "code",
     "collapsed": false,
     "input": [
      "print ma[0:20]"
     ],
     "language": "python",
     "metadata": {},
     "outputs": [
      {
       "output_type": "stream",
       "stream": "stdout",
       "text": [
        "[ 38.033635    45.65389818  53.17691655  60.5618083   68.06294357\n",
        "  75.77742499  75.76594388  75.74703895  75.79673651  75.88872863\n",
        "  76.04357247  76.14382131  76.28681028  75.99241574  75.51487918\n",
        "  74.80386149  73.97127392  73.28967149  72.80030198  72.18262325]\n"
       ]
      }
     ],
     "prompt_number": 5
    },
    {
     "cell_type": "code",
     "collapsed": false,
     "input": [
      "xy_data = Scatter( x=x, y=y, mode='markers', marker=Marker(size=4), name='AAPL' )\n",
      "# vvv clip first and last points of convolution\n",
      "mov_avg = Scatter( x=x[5:-4], y=ma[5:-4], \\\n",
      "                  line=Line(width=2,color='red',opacity=0.5), name='Moving average' )\n",
      "data = Data([xy_data, mov_avg])\n",
      "\n",
      "py.iplot(data, filename='apple stock moving average')"
     ],
     "language": "python",
     "metadata": {},
     "outputs": [
      {
       "html": [
        "<iframe id=\"igraph\" scrolling=\"no\" style=\"border:none;\"seamless=\"seamless\" src=\"https://plot.ly/~yabebal/14.embed\" height=\"525\" width=\"100%\"></iframe>"
       ],
       "metadata": {},
       "output_type": "pyout",
       "prompt_number": 11,
       "text": [
        "<plotly.tools.PlotlyDisplay at 0x7f59f4e23f10>"
       ]
      }
     ],
     "prompt_number": 11
    },
    {
     "cell_type": "markdown",
     "metadata": {},
     "source": [
      "Save the plot URL - we'll use it when generating the report later."
     ]
    },
    {
     "cell_type": "code",
     "collapsed": false,
     "input": [
      "first_plot_url = py.plot(data, filename='apple stock moving average', auto_open=False,)\n",
      "print first_plot_url"
     ],
     "language": "python",
     "metadata": {},
     "outputs": [
      {
       "output_type": "stream",
       "stream": "stdout",
       "text": [
        "https://plot.ly/~yabebal/14\n"
       ]
      }
     ],
     "prompt_number": 14
    },
    {
     "cell_type": "heading",
     "level": 3,
     "metadata": {},
     "source": [
      "Second graph: Scatter matrix of 2014 technology and CPG stocks"
     ]
    },
    {
     "cell_type": "markdown",
     "metadata": {},
     "source": [
      "Let's use the Pandas package and Plotly subplots to compare different tech. and CPG stocks in 2014.<br>\n",
      "This graph was inspired by <a href=\"http://nbviewer.ipython.org/github/twiecki/financial-analysis-python-tutorial/blob/master/1.%20Pandas%20Basics.ipynb\">this IPython notebook</a> and GitHub user <a href=\"https://github.com/twiecki\">twiecki</a>."
     ]
    },
    {
     "cell_type": "code",
     "collapsed": false,
     "input": [
      "tickers = ['AAPL', 'GE', 'IBM', 'KO', 'MSFT', 'PEP']\n",
      "prices = []\n",
      "for ticker in tickers:\n",
      "    quotes = quotes_historical_yahoo(ticker, date1, date2)\n",
      "    prices.append( [q[1] for q in quotes] )"
     ],
     "language": "python",
     "metadata": {},
     "outputs": [],
     "prompt_number": 15
    },
    {
     "cell_type": "markdown",
     "metadata": {},
     "source": [
      "We have all the stock prices in a list of lists - use the code snippet below to convert this into a Pandas dataframe."
     ]
    },
    {
     "cell_type": "code",
     "collapsed": false,
     "input": [
      "df = pd.DataFrame( prices ).transpose()\n",
      "df.columns = tickers\n",
      "df.head()"
     ],
     "language": "python",
     "metadata": {},
     "outputs": [
      {
       "html": [
        "<div style=\"max-height:1000px;max-width:1500px;overflow:auto;\">\n",
        "<table border=\"1\" class=\"dataframe\">\n",
        "  <thead>\n",
        "    <tr style=\"text-align: right;\">\n",
        "      <th></th>\n",
        "      <th>AAPL</th>\n",
        "      <th>GE</th>\n",
        "      <th>IBM</th>\n",
        "      <th>KO</th>\n",
        "      <th>MSFT</th>\n",
        "      <th>PEP</th>\n",
        "    </tr>\n",
        "  </thead>\n",
        "  <tbody>\n",
        "    <tr>\n",
        "      <th>0</th>\n",
        "      <td> 77.445395</td>\n",
        "      <td> 26.664553</td>\n",
        "      <td> 181.498748</td>\n",
        "      <td> 39.592917</td>\n",
        "      <td> 36.093609</td>\n",
        "      <td> 80.091592</td>\n",
        "    </tr>\n",
        "    <tr>\n",
        "      <th>1</th>\n",
        "      <td> 77.045575</td>\n",
        "      <td> 26.338282</td>\n",
        "      <td> 180.164694</td>\n",
        "      <td> 39.171844</td>\n",
        "      <td> 35.950257</td>\n",
        "      <td> 79.304115</td>\n",
        "    </tr>\n",
        "    <tr>\n",
        "      <th>2</th>\n",
        "      <td> 74.896972</td>\n",
        "      <td> 26.472832</td>\n",
        "      <td> 181.444944</td>\n",
        "      <td> 38.982230</td>\n",
        "      <td> 35.615887</td>\n",
        "      <td> 79.382742</td>\n",
        "    </tr>\n",
        "    <tr>\n",
        "      <th>3</th>\n",
        "      <td> 75.856461</td>\n",
        "      <td> 26.301854</td>\n",
        "      <td> 180.701327</td>\n",
        "      <td> 38.976658</td>\n",
        "      <td> 35.112681</td>\n",
        "      <td> 79.789463</td>\n",
        "    </tr>\n",
        "    <tr>\n",
        "      <th>4</th>\n",
        "      <td> 75.091947</td>\n",
        "      <td> 26.173980</td>\n",
        "      <td> 183.558542</td>\n",
        "      <td> 38.941472</td>\n",
        "      <td> 34.791946</td>\n",
        "      <td> 80.476919</td>\n",
        "    </tr>\n",
        "  </tbody>\n",
        "</table>\n",
        "<p>5 rows \u00d7 6 columns</p>\n",
        "</div>"
       ],
       "metadata": {},
       "output_type": "pyout",
       "prompt_number": 16,
       "text": [
        "        AAPL         GE         IBM         KO       MSFT        PEP\n",
        "0  77.445395  26.664553  181.498748  39.592917  36.093609  80.091592\n",
        "1  77.045575  26.338282  180.164694  39.171844  35.950257  79.304115\n",
        "2  74.896972  26.472832  181.444944  38.982230  35.615887  79.382742\n",
        "3  75.856461  26.301854  180.701327  38.976658  35.112681  79.789463\n",
        "4  75.091947  26.173980  183.558542  38.941472  34.791946  80.476919\n",
        "\n",
        "[5 rows x 6 columns]"
       ]
      }
     ],
     "prompt_number": 16
    },
    {
     "cell_type": "markdown",
     "metadata": {},
     "source": [
      "Use Plotly's <a href=\"https://plot.ly/python/overview/\">get_subplots()</a> routine to generate an empty matrix of 6x6 subplots. We'll fill these in by plotting all stock ticker combinations against each other (ie, General Electric stock versus Apple stock) "
     ]
    },
    {
     "cell_type": "code",
     "collapsed": false,
     "input": [
      "fig = plotly_tools.get_subplots(rows=6, columns=6, print_grid=True, horizontal_spacing= 0.05, vertical_spacing= 0.05)"
     ],
     "language": "python",
     "metadata": {},
     "outputs": [
      {
       "output_type": "stream",
       "stream": "stdout",
       "text": [
        "This is the format of your plot grid!\n",
        "[31]\t[32]\t[33]\t[34]\t[35]\t[36]\t\n",
        "[25]\t[26]\t[27]\t[28]\t[29]\t[30]\t\n",
        "[19]\t[20]\t[21]\t[22]\t[23]\t[24]\t\n",
        "[13]\t[14]\t[15]\t[16]\t[17]\t[18]\t\n",
        "[7]\t[8]\t[9]\t[10]\t[11]\t[12]\t\n",
        "[1]\t[2]\t[3]\t[4]\t[5]\t[6]\t\n",
        "\n"
       ]
      }
     ],
     "prompt_number": 19
    },
    {
     "cell_type": "code",
     "collapsed": false,
     "input": [
      "def kde_scipy(x, x_grid, bandwidth=0.4, **kwargs):\n",
      "    \"\"\"Kernel Density Estimation with Scipy\"\"\"\n",
      "    # From https://jakevdp.github.io/blog/2013/12/01/kernel-density-estimation/\n",
      "    # Note that scipy weights its bandwidth by the covariance of the\n",
      "    # input data.  To make the results comparable to the other methods,\n",
      "    # we divide the bandwidth by the sample standard deviation here.\n",
      "    kde = gaussian_kde(x, bw_method=bandwidth / x.std(ddof=1), **kwargs)\n",
      "    return kde.evaluate(x_grid)\n",
      "\n",
      "subplots = range(1,37)\n",
      "sp_index = 0\n",
      "data = []\n",
      "for i in range(1,7):\n",
      "    x_ticker = df.columns[i-1]\n",
      "    for j in range(1,7):\n",
      "        y_ticker = df.columns[j-1]\n",
      "        if i==j: \n",
      "            x = df[x_ticker]\n",
      "            x_grid = np.linspace(x.min(), x.max(), 100)\n",
      "            sp = [ Histogram( x=x, histnorm='probability density' ), \\\n",
      "                  Scatter( x=x_grid, y=kde_scipy( x.as_matrix(), x_grid ), \\\n",
      "                          line=Line(width=2,color='red',opacity='0.5') ) ]\n",
      "        else:\n",
      "            sp = [ Scatter( x=df[x_ticker], y=df[y_ticker], mode='markers', marker=Marker(size=3) ) ]\n",
      "        \n",
      "        for ea in sp:\n",
      "            ea.update( name='{0} vs {1}'.format(x_ticker,y_ticker),\\\n",
      "                      xaxis='x{}'.format(subplots[sp_index]),\\\n",
      "                      yaxis='y{}'.format(subplots[sp_index])\n",
      "            )\n",
      "        sp_index+=1\n",
      "        data += sp\n",
      "\n",
      "# Add x and y labels\n",
      "left_index = 1\n",
      "bottom_index = 1\n",
      "for tk in tickers:\n",
      "    fig['layout']['xaxis{}'.format(left_index)].update( title=tk )\n",
      "    fig['layout']['yaxis{}'.format(bottom_index)].update( title=tk )\n",
      "    left_index=left_index+1\n",
      "    bottom_index=bottom_index+6\n",
      "    \n",
      "# Remove legend by updating 'layout' key\n",
      "fig['layout'].update(showlegend=False,height=1000,width=1000, title='Major technology and CPG stock prices in 2014')\n",
      "fig['data'] = Data(data)\n",
      "py.iplot(fig, height=1000, width=1000, filename='Major technology and CPG stock prices in 2014 - scatter matrix')"
     ],
     "language": "python",
     "metadata": {},
     "outputs": [
      {
       "html": [
        "<iframe id=\"igraph\" scrolling=\"no\" style=\"border:none;\"seamless=\"seamless\" src=\"https://plot.ly/~yabebal/22.embed?width=975&height=975\" height=\"1000\" width=\"1000\"></iframe>"
       ],
       "metadata": {},
       "output_type": "pyout",
       "prompt_number": 20,
       "text": [
        "<plotly.tools.PlotlyDisplay at 0x7f59f4d6b750>"
       ]
      }
     ],
     "prompt_number": 20
    },
    {
     "cell_type": "markdown",
     "metadata": {},
     "source": [
      "Save the plot URL - we'll use it when generating the report later."
     ]
    },
    {
     "cell_type": "code",
     "collapsed": false,
     "input": [
      "second_plot_url = py.plot(fig, height=1000, width=1000, auto_open=False,\\\n",
      "                          filename='Major technology and CPG stock prices in 2014 - scatter matrix')\n",
      "print second_plot_url"
     ],
     "language": "python",
     "metadata": {},
     "outputs": [
      {
       "output_type": "stream",
       "stream": "stdout",
       "text": [
        "https://plot.ly/~yabebal/22\n"
       ]
      }
     ],
     "prompt_number": 24
    },
    {
     "cell_type": "heading",
     "level": 3,
     "metadata": {},
     "source": [
      "2 summary tables - One using Pandas and one using HTML"
     ]
    },
    {
     "cell_type": "markdown",
     "metadata": {},
     "source": [
      "First table: Use Pandas <a href=\"http://pandas.pydata.org/pandas-docs/version/0.15.1/generated/pandas.DataFrame.to_html.html\">to_html()</a> routine to convert Pandas data frame to HTML table. Replace default table styling with <a href=\"http://getbootstrap.com/css\">Bootstrap</a> table styling."
     ]
    },
    {
     "cell_type": "code",
     "collapsed": false,
     "input": [
      "summary_table_1 = df.describe()\n",
      "summary_table_1 = summary_table_1\\\n",
      "    .to_html()\\\n",
      "    .replace('<table border=\"1\" class=\"dataframe\">','<table class=\"table table-striped\">') # use bootstrap styling"
     ],
     "language": "python",
     "metadata": {},
     "outputs": [],
     "prompt_number": 26
    },
    {
     "cell_type": "markdown",
     "metadata": {},
     "source": [
      "Second table: Build table as an HTML string. Use <a href=\"http://getbootstrap.com/css\">Bootstrap</a> for table styling."
     ]
    },
    {
     "cell_type": "code",
     "collapsed": false,
     "input": [
      "summary_table_2 = '''<table class=\"table table-striped\">\n",
      "<th>Ticker</th><th>Full name</th>\n",
      "<tr>\n",
      "    <td>AAPL</td>\n",
      "    <td><a href=\"http://finance.yahoo.com/q?s=AAPL\">Apple Inc</a></td>\n",
      "</tr>\n",
      "<tr>\n",
      "    <td>GE</td>\n",
      "    <td><a href=\"http://finance.yahoo.com/q?s=GE\">General Electric Company</a></td>\n",
      "</tr>\n",
      "<tr>\n",
      "    <td>IBM</td>\n",
      "    <td><a href=\"http://finance.yahoo.com/q?s=IBM\">International Business Machines Corp.</a></td>\n",
      "</tr>\n",
      "<tr>\n",
      "    <td>KO</td>\n",
      "    <td><a href=\"http://finance.yahoo.com/q?s=KO\">The Coca-Cola Company</a></td>\n",
      "</tr>\n",
      "<tr>\n",
      "    <td>MSFT</td>\n",
      "    <td><a href=\"http://finance.yahoo.com/q?s=MSFT\">Microsoft Corporation</a></td>\n",
      "</tr>\n",
      "<tr>\n",
      "    <td>PEP</td>\n",
      "    <td><a href=\"http://finance.yahoo.com/q?s=PEP\">Pepsico, Inc.</a></td>\n",
      "</tr>\n",
      "</table>\n",
      "'''\n",
      "HTML(summary_table_2)"
     ],
     "language": "python",
     "metadata": {},
     "outputs": [
      {
       "html": [
        "<table class=\"table table-striped\">\n",
        "<th>Ticker</th><th>Full name</th>\n",
        "<tr>\n",
        "    <td>AAPL</td>\n",
        "    <td><a href=\"http://finance.yahoo.com/q?s=AAPL\">Apple Inc</a></td>\n",
        "</tr>\n",
        "<tr>\n",
        "    <td>GE</td>\n",
        "    <td><a href=\"http://finance.yahoo.com/q?s=GE\">General Electric Company</a></td>\n",
        "</tr>\n",
        "<tr>\n",
        "    <td>IBM</td>\n",
        "    <td><a href=\"http://finance.yahoo.com/q?s=IBM\">International Business Machines Corp.</a></td>\n",
        "</tr>\n",
        "<tr>\n",
        "    <td>KO</td>\n",
        "    <td><a href=\"http://finance.yahoo.com/q?s=KO\">The Coca-Cola Company</a></td>\n",
        "</tr>\n",
        "<tr>\n",
        "    <td>MSFT</td>\n",
        "    <td><a href=\"http://finance.yahoo.com/q?s=MSFT\">Microsoft Corporation</a></td>\n",
        "</tr>\n",
        "<tr>\n",
        "    <td>PEP</td>\n",
        "    <td><a href=\"http://finance.yahoo.com/q?s=PEP\">Pepsico, Inc.</a></td>\n",
        "</tr>\n",
        "</table>\n"
       ],
       "metadata": {},
       "output_type": "pyout",
       "prompt_number": 27,
       "text": [
        "<IPython.core.display.HTML at 0x7f59f5a44ad0>"
       ]
      }
     ],
     "prompt_number": 27
    },
    {
     "cell_type": "heading",
     "level": 2,
     "metadata": {},
     "source": [
      "Step 2: Generate HTML report as a string and write to file"
     ]
    },
    {
     "cell_type": "markdown",
     "metadata": {},
     "source": [
      "This is the last step. We have all of the plots and tables that we want to include in the report - now we build an HTML string with the plots and tables embedded.<br>Notice that the <a href=\"http://getbootstrap.com/css\">Bootstrap</a> css library is included in the &lt;head&gt; for styling."
     ]
    },
    {
     "cell_type": "code",
     "collapsed": false,
     "input": [
      "html_string = '''\n",
      "<html>\n",
      "    <head>\n",
      "        <link rel=\"stylesheet\" href=\"https://maxcdn.bootstrapcdn.com/bootstrap/3.3.1/css/bootstrap.min.css\">\n",
      "        <style>body{ margin:0 100; background:whitesmoke; }</style>\n",
      "    </head>\n",
      "    <body>\n",
      "        <h1>2014 technology and CPG stock prices</h1>\n",
      "\n",
      "        <!-- *** Section 1 *** --->\n",
      "        <h2>Section 1: Apple Inc. (AAPL) stock in 2014</h2>\n",
      "        <iframe width=\"1000\" height=\"550\" frameborder=\"0\" seamless=\"seamless\" scrolling=\"no\" \\\n",
      "src=\"''' + first_plot_url + '''.embed?width=800&height=550\"></iframe>\n",
      "        <p>Apple stock price rose steadily through 2014.</p>\n",
      "        \n",
      "        <!-- *** Section 2 *** --->\n",
      "        <h2>Section 2: AAPL compared to other 2014 stocks</h2>\n",
      "        <iframe width=\"1000\" height=\"1000\" frameborder=\"0\" seamless=\"seamless\" scrolling=\"no\" \\\n",
      "src=\"''' + second_plot_url + '''.embed?width=1000&height=1000\"></iframe>\n",
      "        <p>GE had the most predictable stock price in 2014. IBM had the highest mean stock price. \\\n",
      "The red lines are kernel density estimations of each stock price - the peak of each red lines \\\n",
      "corresponds to its mean stock price for 2014 on the x axis.</p>\n",
      "        <h3>Reference table: stock tickers</h3>\n",
      "        ''' + summary_table_2 + '''\n",
      "        <h3>Summary table: 2014 stock statistics</h3>\n",
      "        ''' + summary_table_1 + '''\n",
      "    </body>\n",
      "</html>'''"
     ],
     "language": "python",
     "metadata": {},
     "outputs": [],
     "prompt_number": 28
    },
    {
     "cell_type": "markdown",
     "metadata": {},
     "source": [
      "Finally, write the html string to a local file."
     ]
    },
    {
     "cell_type": "code",
     "collapsed": false,
     "input": [
      "f = open('report.html','w')\n",
      "f.write(html_string)\n",
      "f.close()"
     ],
     "language": "python",
     "metadata": {},
     "outputs": [],
     "prompt_number": 29
    },
    {
     "cell_type": "code",
     "collapsed": false,
     "input": [],
     "language": "python",
     "metadata": {},
     "outputs": []
    }
   ],
   "metadata": {}
  }
 ]
}